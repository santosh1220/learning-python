{
 "cells": [
  {
   "cell_type": "markdown",
   "metadata": {},
   "source": [
    "### 1.Create an empty dictionary"
   ]
  },
  {
   "cell_type": "markdown",
   "metadata": {},
   "source": [
    "### 2.Create the following dictionary "
   ]
  },
  {
   "cell_type": "code",
   "execution_count": 1,
   "metadata": {},
   "outputs": [
    {
     "name": "stdout",
     "output_type": "stream",
     "text": [
      "{'a': 10, 'b': 20}\n"
     ]
    }
   ],
   "source": [
    "cl={\"a\":10,\"b\":20}\n",
    "print(cl)"
   ]
  },
  {
   "cell_type": "markdown",
   "metadata": {},
   "source": [
    "### 4.\tPrint all the items of a dictionary"
   ]
  },
  {
   "cell_type": "code",
   "execution_count": 2,
   "metadata": {},
   "outputs": [
    {
     "name": "stdout",
     "output_type": "stream",
     "text": [
      "dict_items([(101, 'hfsd'), (102, 'eurie'), (103, 'xbzvm')])\n"
     ]
    }
   ],
   "source": [
    "dict1={101:\"hfsd\",102:\"eurie\",103:\"xbzvm\"}\n",
    "print(dict1.items())"
   ]
  },
  {
   "cell_type": "markdown",
   "metadata": {},
   "source": [
    "### 5.Delete an element of a dictionary."
   ]
  },
  {
   "cell_type": "code",
   "execution_count": 4,
   "metadata": {},
   "outputs": [
    {
     "name": "stdout",
     "output_type": "stream",
     "text": [
      "dict_items([(102, 'eurie'), (103, 'xbzvm')])\n"
     ]
    }
   ],
   "source": [
    "dict1={101:\"hfsd\",102:\"eurie\",103:\"xbzvm\"}\n",
    "del dict1[101]\n",
    "print(dict1.items())"
   ]
  },
  {
   "cell_type": "markdown",
   "metadata": {},
   "source": [
    "### 6.Delete full dictionary"
   ]
  },
  {
   "cell_type": "code",
   "execution_count": 18,
   "metadata": {},
   "outputs": [
    {
     "name": "stdout",
     "output_type": "stream",
     "text": [
      "dict_items([(101, 'hfsd'), (102, 'eurie')])\n"
     ]
    }
   ],
   "source": [
    "dict1={101:\"hfsd\",102:\"eurie\",103:\"xbzvm\"}\n",
    "del dict1[103]\n",
    "print(dict1.items())"
   ]
  },
  {
   "cell_type": "markdown",
   "metadata": {},
   "source": [
    "### 7: Print a value for a key "
   ]
  },
  {
   "cell_type": "code",
   "execution_count": 19,
   "metadata": {},
   "outputs": [
    {
     "name": "stdout",
     "output_type": "stream",
     "text": [
      "Key : one , Value : 1\n",
      "Key : two , Value : 2\n",
      "Key : three , Value : 3\n",
      "Key : four , Value : 4\n"
     ]
    }
   ],
   "source": [
    "my_dict = {\"one\": 1,\"two\":2,\"three\":3,\"four\":4}\n",
    "\n",
    "for item in my_dict:\n",
    "    print(\"Key : {} , Value : {}\".format(item,my_dict[item]))"
   ]
  },
  {
   "cell_type": "markdown",
   "metadata": {},
   "source": [
    "### 8. To check if a key id present in a dictionary"
   ]
  },
  {
   "cell_type": "code",
   "execution_count": 20,
   "metadata": {},
   "outputs": [
    {
     "name": "stdout",
     "output_type": "stream",
     "text": [
      "101 hfsd\n",
      "102 eurie\n",
      "103 xbzvm\n",
      "101 in dict\n"
     ]
    }
   ],
   "source": [
    "dict1={101:\"hfsd\",102:\"eurie\",103:\"xbzvm\"}\n",
    "for key,value in dict1.items():\n",
    "    print(key,value)\n",
    "if 101 in dict1:\n",
    "    print(\"101 in dict\")\n",
    "else:\n",
    "    print(\"not valid\")"
   ]
  },
  {
   "cell_type": "markdown",
   "metadata": {},
   "source": [
    "### 9.Update a value of a key"
   ]
  },
  {
   "cell_type": "code",
   "execution_count": 21,
   "metadata": {},
   "outputs": [
    {
     "name": "stdout",
     "output_type": "stream",
     "text": [
      "{101: 'x', 102: 'eurie', 103: 'xbzvm'}\n"
     ]
    }
   ],
   "source": [
    "dict1[101]=\"x\"\n",
    "print(dict1)"
   ]
  },
  {
   "cell_type": "markdown",
   "metadata": {},
   "source": [
    "### 11.Print dictionary for keys{1,10} and values as square of keys"
   ]
  },
  {
   "cell_type": "code",
   "execution_count": 27,
   "metadata": {},
   "outputs": [
    {
     "name": "stdout",
     "output_type": "stream",
     "text": [
      "{1: 1, 2: 4, 3: 9, 4: 16, 5: 25, 6: 36, 7: 49, 8: 64, 9: 81, 10: 100}\n"
     ]
    }
   ],
   "source": [
    "dict={}\n",
    "\n",
    "for i in range(1,11):\n",
    "    dict[i] = i**2\n",
    "\n",
    "print(dict)"
   ]
  },
  {
   "cell_type": "markdown",
   "metadata": {},
   "source": [
    "### 12.Print nested dictionary"
   ]
  },
  {
   "cell_type": "code",
   "execution_count": 28,
   "metadata": {},
   "outputs": [
    {
     "name": "stdout",
     "output_type": "stream",
     "text": [
      "{'A': 1, 1: 'ABC', 5: {'A': 16, 2: 'DEF'}, 'c': 17}\n"
     ]
    }
   ],
   "source": [
    "dict1={\"a\":1}\n",
    "dict2={1:\"ab\"}\n",
    "dict3={\"a\":16,2:\"de\"}\n",
    "dict4={\"c\":17}\n",
    "dict33={\"A\":1,1:\"ABC\",5:{\"A\":16,2:\"DEF\"},\"c\":17}\n",
    "print(dict33)"
   ]
  },
  {
   "cell_type": "markdown",
   "metadata": {},
   "source": [
    "### 13.Concatenate three dictionaries"
   ]
  },
  {
   "cell_type": "code",
   "execution_count": 30,
   "metadata": {},
   "outputs": [
    {
     "name": "stdout",
     "output_type": "stream",
     "text": [
      "{'a': 1}\n",
      "{'a': 1, 1: 'abc'}\n",
      "{'a': 16, 1: 'abc', 2: 'def'}\n"
     ]
    }
   ],
   "source": [
    "dict1={\"a\":1}\n",
    "dict2={1:\"abc\"}\n",
    "dict3={\"a\":16,2:\"def\"}\n",
    "d4={}\n",
    "for d in (dict1,dict2,dict3):\n",
    "    d4.update(d)\n",
    "    print(d4)"
   ]
  },
  {
   "cell_type": "markdown",
   "metadata": {},
   "source": [
    "### 14.Sum all the values of a dictionary"
   ]
  },
  {
   "cell_type": "code",
   "execution_count": 31,
   "metadata": {},
   "outputs": [
    {
     "name": "stdout",
     "output_type": "stream",
     "text": [
      "{1: 1}\n",
      "{1: 1, 2: 4}\n",
      "{1: 1, 2: 4, 3: 9}\n",
      "{1: 1, 2: 4, 3: 9, 4: 16}\n",
      "{1: 1, 2: 4, 3: 9, 4: 16, 5: 25}\n",
      "{1: 1, 2: 4, 3: 9, 4: 16, 5: 25, 6: 36}\n",
      "{1: 1, 2: 4, 3: 9, 4: 16, 5: 25, 6: 36, 7: 49}\n",
      "{1: 1, 2: 4, 3: 9, 4: 16, 5: 25, 6: 36, 7: 49, 8: 64}\n",
      "{1: 1, 2: 4, 3: 9, 4: 16, 5: 25, 6: 36, 7: 49, 8: 64, 9: 81}\n",
      "{1: 1, 2: 4, 3: 9, 4: 16, 5: 25, 6: 36, 7: 49, 8: 64, 9: 81, 10: 100}\n"
     ]
    },
    {
     "data": {
      "text/plain": [
       "55"
      ]
     },
     "execution_count": 31,
     "metadata": {},
     "output_type": "execute_result"
    }
   ],
   "source": [
    "dict1={}\n",
    "for key in range(1,11):\n",
    "    dict1[key]=key*key\n",
    "    print(dict1)\n",
    "sum(dict1)"
   ]
  },
  {
   "cell_type": "code",
   "execution_count": null,
   "metadata": {},
   "outputs": [],
   "source": []
  }
 ],
 "metadata": {
  "kernelspec": {
   "display_name": "Python 3",
   "language": "python",
   "name": "python3"
  },
  "language_info": {
   "codemirror_mode": {
    "name": "ipython",
    "version": 3
   },
   "file_extension": ".py",
   "mimetype": "text/x-python",
   "name": "python",
   "nbconvert_exporter": "python",
   "pygments_lexer": "ipython3",
   "version": "3.8.5"
  }
 },
 "nbformat": 4,
 "nbformat_minor": 4
}
