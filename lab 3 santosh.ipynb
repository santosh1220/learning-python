{
 "cells": [
  {
   "cell_type": "markdown",
   "metadata": {},
   "source": [
    "## Write a Python program to calculate the length of a string."
   ]
  },
  {
   "cell_type": "code",
   "execution_count": 1,
   "metadata": {},
   "outputs": [
    {
     "name": "stdout",
     "output_type": "stream",
     "text": [
      "enter the string\n",
      "1\n",
      "1  is the length of the string\n"
     ]
    }
   ],
   "source": [
    "print(\"enter the string\")\n",
    "str1=input()\n",
    "count=0\n",
    "for i in str1:\n",
    "    count=count+1\n",
    "print (count,\" is the length of the string\")"
   ]
  },
  {
   "cell_type": "markdown",
   "metadata": {},
   "source": [
    "## Write a Python program to count the number of characters (character frequency) in a string"
   ]
  },
  {
   "cell_type": "code",
   "execution_count": 3,
   "metadata": {},
   "outputs": [
    {
     "name": "stdout",
     "output_type": "stream",
     "text": [
      "enter the string\n",
      "dsfddr\n",
      "6  characters are present in the string\n"
     ]
    }
   ],
   "source": [
    "print(\"enter the string\")\n",
    "str1=input()\n",
    "count=0\n",
    "for i in str1:\n",
    "    if i:\n",
    "        count=count+1\n",
    "print (count, \" characters are present in the string\")"
   ]
  },
  {
   "cell_type": "markdown",
   "metadata": {},
   "source": [
    "### 7.\tWrite a Python program to get a string made of the first 2 and the last 2 chars from a given a string. If the string length is less than 2, return instead of the empty string"
   ]
  },
  {
   "cell_type": "code",
   "execution_count": 4,
   "metadata": {},
   "outputs": [
    {
     "name": "stdout",
     "output_type": "stream",
     "text": [
      "enter the string\n",
      "kgdthryr\n",
      "the new string is kgyr\n"
     ]
    }
   ],
   "source": [
    "print(\"enter the string\")\n",
    "str1=input()\n",
    "def make_string(str1):\n",
    "    if len(str1)<=2:\n",
    "        return ''\n",
    "    else:\n",
    "        print(\"the new string is\",str1[0:2]+str1[-2:])\n",
    "make_string(str1)"
   ]
  },
  {
   "cell_type": "markdown",
   "metadata": {},
   "source": [
    "### Write a Python program to get a string from a given string where all occurrences of its first char have been changed to '$', except the first char itself"
   ]
  },
  {
   "cell_type": "code",
   "execution_count": 5,
   "metadata": {},
   "outputs": [
    {
     "name": "stdout",
     "output_type": "stream",
     "text": [
      "enter a string\n",
      "ram is a good boy\n",
      " the new string is  ram is a good boy\n"
     ]
    }
   ],
   "source": [
    "print(\"enter a string\")\n",
    "str1=input()\n",
    "char1=str1[0]\n",
    "new_str=str1.replace(char1,\"$\")\n",
    "print (\" the new string is \",char1+new_str[1:])"
   ]
  },
  {
   "cell_type": "markdown",
   "metadata": {},
   "source": [
    "### 9.Write a Python program to get a single string from two given strings, separated by a space and swap the first two characters of each string"
   ]
  },
  {
   "cell_type": "code",
   "execution_count": 1,
   "metadata": {},
   "outputs": [
    {
     "name": "stdout",
     "output_type": "stream",
     "text": [
      "enter string 1\n",
      "hi\n",
      "enter second string\n",
      "everyone\n",
      "the new string is  ne  hieryone\n"
     ]
    }
   ],
   "source": [
    "print( \"enter string 1\")\n",
    "str1=input()\n",
    "print(\"enter second string\")\n",
    "str2=input()\n",
    "print(\"the new string is \",str2[-2:]+str1[2:],\"\",str1[-2:]+str2[2:])\n"
   ]
  },
  {
   "cell_type": "markdown",
   "metadata": {},
   "source": [
    "### 10. Write a Python program to add 'ing' at the end of a given string (length should be at least 3). If the given string already ends with 'ing' then add 'ly' instead. If the string length of the given string is less than 3, leave it unchanged"
   ]
  },
  {
   "cell_type": "code",
   "execution_count": 2,
   "metadata": {},
   "outputs": [
    {
     "name": "stdout",
     "output_type": "stream",
     "text": [
      "enter a string\n",
      "tuning\n",
      "6\n",
      "new string is tuningly\n"
     ]
    }
   ],
   "source": [
    "print(\"enter a string\")\n",
    "str1=input()\n",
    "print(len(str1))\n",
    "def make_new_string(str1):\n",
    "    if len(str1)>2:\n",
    "        if str1[-3:]=='ing':\n",
    "            str1=str1+'ly'\n",
    "            print(\"new string is \"+str1)\n",
    "        else:\n",
    "            str1=str1+'ing'\n",
    "            print(\"new string is \"+str1)\n",
    "    else:\n",
    "        print(\"the string remains unchanged \", str1)\n",
    "make_new_string(str1)"
   ]
  },
  {
   "cell_type": "code",
   "execution_count": null,
   "metadata": {},
   "outputs": [],
   "source": []
  }
 ],
 "metadata": {
  "kernelspec": {
   "display_name": "Python 3",
   "language": "python",
   "name": "python3"
  },
  "language_info": {
   "codemirror_mode": {
    "name": "ipython",
    "version": 3
   },
   "file_extension": ".py",
   "mimetype": "text/x-python",
   "name": "python",
   "nbconvert_exporter": "python",
   "pygments_lexer": "ipython3",
   "version": "3.8.5"
  }
 },
 "nbformat": 4,
 "nbformat_minor": 4
}
