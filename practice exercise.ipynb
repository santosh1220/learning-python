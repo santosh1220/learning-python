{
 "cells": [
  {
   "cell_type": "markdown",
   "metadata": {},
   "source": [
    " # Q1.what is python?"
   ]
  },
  {
   "cell_type": "markdown",
   "metadata": {},
   "source": [
    "### Ans: Python is a programming language for development, software development and mathematical operations."
   ]
  },
  {
   "cell_type": "markdown",
   "metadata": {},
   "source": [
    "# Q2. give 5 area where python is used?"
   ]
  },
  {
   "cell_type": "markdown",
   "metadata": {},
   "source": [
    "### Ans: web development, machine learning, network programming, desktop applications, games and 3d graphics"
   ]
  },
  {
   "cell_type": "markdown",
   "metadata": {},
   "source": [
    "# Q3. write a program to check if 10>2 or not?"
   ]
  },
  {
   "cell_type": "code",
   "execution_count": 9,
   "metadata": {},
   "outputs": [
    {
     "name": "stdout",
     "output_type": "stream",
     "text": [
      "10 is greather than 2\n"
     ]
    }
   ],
   "source": [
    "if (10>2): \n",
    "    print (\"10 is greather than 2\")\n",
    "else: (\"wrong condition\")"
   ]
  },
  {
   "cell_type": "markdown",
   "metadata": {},
   "source": [
    "# Q4. WAP to print 3 variables x,y,z,a having int,str,float and boolean?"
   ]
  },
  {
   "cell_type": "code",
   "execution_count": 11,
   "metadata": {},
   "outputs": [
    {
     "name": "stdout",
     "output_type": "stream",
     "text": [
      "5\n",
      "hello\n",
      "0.65\n",
      "True\n"
     ]
    }
   ],
   "source": [
    "x = 5\n",
    "y = \"hello\"\n",
    "z = 0.65\n",
    "a = True\n",
    "print (x)\n",
    "\n",
    "print (y)\n",
    "print (z)\n",
    "print (a)\n"
   ]
  },
  {
   "cell_type": "markdown",
   "metadata": {},
   "source": [
    "# Q5 WAP to print 3 variables x,y,z using assignment multiple values?"
   ]
  },
  {
   "cell_type": "code",
   "execution_count": 13,
   "metadata": {},
   "outputs": [
    {
     "name": "stdout",
     "output_type": "stream",
     "text": [
      "5 hello 0.67\n"
     ]
    }
   ],
   "source": [
    "x, y, z = 5, \"hello\", 0.67\n",
    "print (x, y, z)"
   ]
  },
  {
   "cell_type": "code",
   "execution_count": 14,
   "metadata": {},
   "outputs": [],
   "source": [
    "# Q6. comment the Q1 and Q2 with respective questions.\n",
    "## Q1. what is python?\n",
    "##Ans: 1 python is a programming language for development, software develoment and mathematical operations.\n",
    "\n",
    "##Q2. give 5 area where python is used?\n",
    "##Ans 2 web development, machine learning , network programming , desktop applications , games and 3d graphics."
   ]
  },
  {
   "cell_type": "markdown",
   "metadata": {},
   "source": [
    "# Q7. print the datatype of variable name in Q4."
   ]
  },
  {
   "cell_type": "code",
   "execution_count": 15,
   "metadata": {},
   "outputs": [
    {
     "name": "stdout",
     "output_type": "stream",
     "text": [
      "<class 'int'>\n",
      "<class 'str'>\n",
      "<class 'bool'>\n"
     ]
    }
   ],
   "source": [
    "x=5 \n",
    "y=\"hello\"\n",
    "z=True\n",
    "\n",
    "print(type(x))\n",
    "print(type(y))\n",
    "print(type(z))"
   ]
  },
  {
   "cell_type": "markdown",
   "metadata": {},
   "source": [
    "# Q8. print the variables fulfilling the criteria."
   ]
  },
  {
   "cell_type": "code",
   "execution_count": 16,
   "metadata": {},
   "outputs": [
    {
     "name": "stdout",
     "output_type": "stream",
     "text": [
      "12\n",
      "computer\n",
      "True\n"
     ]
    }
   ],
   "source": [
    "_sd=12\n",
    "gh_k=\"computer\"\n",
    "_ab_1=True\n",
    "print(_sd)\n",
    "print(gh_k)\n",
    "print(_ab_1)"
   ]
  },
  {
   "cell_type": "markdown",
   "metadata": {},
   "source": [
    "# Q9. wap to print multiple values."
   ]
  },
  {
   "cell_type": "code",
   "execution_count": 17,
   "metadata": {},
   "outputs": [
    {
     "name": "stdout",
     "output_type": "stream",
     "text": [
      "hello world\n"
     ]
    }
   ],
   "source": [
    "print(\"hello\"+\" \"+\"world\") "
   ]
  },
  {
   "cell_type": "markdown",
   "metadata": {},
   "source": [
    "# Q10. print the data types for."
   ]
  },
  {
   "cell_type": "code",
   "execution_count": null,
   "metadata": {},
   "outputs": [],
   "source": [
    "a=\"hello\"\n",
    "b=20\n",
    "c=20.5\n",
    "d=[\"x\",\"y\",\"z\"]\n",
    "e=(\"x\",\"y\",\"z\")\n",
    "f=range(b)\n",
    "g={1:\"apple\",2:\"mango\"}\n",
    "h=True\n",
    "i=list((\"x\",\"y\",\"z\"))\n",
    "j=tuple((\"x\",\"y\",\"z\"))\n",
    "k=set((\"x\",\"y\",\"z\"))\n",
    "l=bool(5)\n",
    "print(type(a))\n",
    "print(type(b))\n",
    "print(type(c))\n",
    "print(type(d))\n",
    "print(type(e))\n",
    "print(type(f))\n",
    "print(type(g))"
   ]
  }
 ],
 "metadata": {
  "kernelspec": {
   "display_name": "Python 3",
   "language": "python",
   "name": "python3"
  },
  "language_info": {
   "codemirror_mode": {
    "name": "ipython",
    "version": 3
   },
   "file_extension": ".py",
   "mimetype": "text/x-python",
   "name": "python",
   "nbconvert_exporter": "python",
   "pygments_lexer": "ipython3",
   "version": "3.8.5"
  }
 },
 "nbformat": 4,
 "nbformat_minor": 4
}
