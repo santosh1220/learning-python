{
 "cells": [
  {
   "cell_type": "markdown",
   "metadata": {},
   "source": [
    "## Q1. Check wether a number is even or odd?"
   ]
  },
  {
   "cell_type": "code",
   "execution_count": 7,
   "metadata": {},
   "outputs": [
    {
     "name": "stdout",
     "output_type": "stream",
     "text": [
      "Eneter the number: 34\n",
      "34  you entered is even.\n"
     ]
    }
   ],
   "source": [
    "num = int(input(\"Eneter the number: \"))\n",
    "if num%2 == 0:\n",
    "    print(num, \" you entered is even.\")\n",
    "else:\n",
    "    print(num, \" you entered is odd.\")"
   ]
  },
  {
   "cell_type": "markdown",
   "metadata": {},
   "source": [
    "## Q2. Check wheter a entered year is leap year or not?"
   ]
  },
  {
   "cell_type": "code",
   "execution_count": 10,
   "metadata": {},
   "outputs": [
    {
     "name": "stdout",
     "output_type": "stream",
     "text": [
      "Enter the year: 400\n",
      "400 is a leap year.\n"
     ]
    }
   ],
   "source": [
    "year = int(input(\"Enter the year: \"))\n",
    "if year % 4 == 0:\n",
    "    print(year, \"is a leap year.\")\n",
    "elif year % 100 == 0:\n",
    "    print(year, \" is not a leap year.\")\n",
    "elif year % 400 == 0:\n",
    "    print(year, \" is a leap year.\")\n",
    "else:\n",
    "    print(year, \" is not a leap year\")"
   ]
  },
  {
   "cell_type": "markdown",
   "metadata": {},
   "source": [
    "## Q3. Check wether a character is constant or not?"
   ]
  },
  {
   "cell_type": "code",
   "execution_count": 17,
   "metadata": {},
   "outputs": [
    {
     "name": "stdout",
     "output_type": "stream",
     "text": [
      "Enter the character: B\n",
      "B  is a vovel.\n"
     ]
    }
   ],
   "source": [
    "a = input(\"Enter the character: \")\n",
    "if a == a or a == A or a == e or a == E or a == i or a == Ia == o or a == O or a == u or a == U:\n",
    "    print(a, \" is a vovel.\")\n",
    "else:\n",
    "    print(a, \" is not a vovel\")"
   ]
  },
  {
   "cell_type": "markdown",
   "metadata": {},
   "source": [
    "## Q4. Program to find the smallest of two numbers?"
   ]
  },
  {
   "cell_type": "code",
   "execution_count": 23,
   "metadata": {},
   "outputs": [
    {
     "name": "stdout",
     "output_type": "stream",
     "text": [
      "Enter the number: 20\n",
      "Enter the number: 20\n",
      "20  is equal to  20\n"
     ]
    }
   ],
   "source": [
    "a = int(input(\"Enter the number: \"))\n",
    "b = int(input(\"Enter the number: \"))\n",
    "if a>b:\n",
    "    print(a, \" is greater than \", b)\n",
    "elif b>a:\n",
    "    print(b, \" is greater than \", a)\n",
    "elif a == b:\n",
    "    print(a, \" is equal to \", b)"
   ]
  },
  {
   "cell_type": "markdown",
   "metadata": {},
   "source": [
    "## Q5. Program to find factorial of a number?"
   ]
  },
  {
   "cell_type": "code",
   "execution_count": 2,
   "metadata": {},
   "outputs": [
    {
     "name": "stdout",
     "output_type": "stream",
     "text": [
      "Enter the number to find the factorial: 5\n",
      "The factorial of the number is 120\n"
     ]
    }
   ],
   "source": [
    "num = int(input(\"Enter the number to find the factorial: \"))\n",
    "fact = 1\n",
    "while num != 0:\n",
    "    fact *= num\n",
    "    num -= 1\n",
    "    \n",
    "print(f\"The factorial of the number is {fact}\")"
   ]
  },
  {
   "cell_type": "markdown",
   "metadata": {},
   "source": [
    "## Q6. Write a program to print the pattern?\n",
    "#    *\n",
    "#   * * \n",
    "#  * * *\n",
    "# * * * *"
   ]
  },
  {
   "cell_type": "code",
   "execution_count": 14,
   "metadata": {},
   "outputs": [
    {
     "name": "stdout",
     "output_type": "stream",
     "text": [
      "enter numnber of rows5\n",
      "    * \n",
      "\n",
      "   * * \n",
      "\n",
      "  * * * \n",
      "\n",
      " * * * * \n",
      "\n",
      "* * * * * \n",
      "\n"
     ]
    }
   ],
   "source": [
    "a=int(input(\"enter numnber of rows\"))\n",
    "for i in range(1,a+1):\n",
    "    print(\" \"*(a-i),end=\"\")\n",
    "    for j in range(0,i):\n",
    "        print(\"*\",end=\" \")\n",
    "    print(\"\\n\")"
   ]
  },
  {
   "cell_type": "markdown",
   "metadata": {},
   "source": [
    "## Q7. Write a program to print this series\n",
    "##    1 1 2 3 5 8 13"
   ]
  },
  {
   "cell_type": "code",
   "execution_count": 13,
   "metadata": {},
   "outputs": [
    {
     "name": "stdout",
     "output_type": "stream",
     "text": [
      "enter number of terms5\n",
      "0 1  1 1 2 3 5 "
     ]
    }
   ],
   "source": [
    "a=int(input(\"enter number of terms\"))\n",
    "b=0\n",
    "c=1\n",
    "print(b,c,end=\"  \")\n",
    "for i in range(0,a):\n",
    "    print(b+c,end=\" \")\n",
    "    c=b+c\n",
    "    b,c=c,b   "
   ]
  },
  {
   "cell_type": "markdown",
   "metadata": {},
   "source": [
    "## Q8. Check whether a number is prime or not?"
   ]
  },
  {
   "cell_type": "code",
   "execution_count": 41,
   "metadata": {},
   "outputs": [
    {
     "name": "stdout",
     "output_type": "stream",
     "text": [
      "Enter a number: 7\n",
      "7 is a prime number.\n"
     ]
    }
   ],
   "source": [
    "n = int(input(\"Enter a number: \"))\n",
    "total = 0\n",
    "for i in range(1,n+1):\n",
    "    if n%i==0:\n",
    "        total = int(total+i)\n",
    "        \n",
    "add = int(1 + n)\n",
    "if total == add:\n",
    "    print(f\"{n} is a prime number.\")\n",
    "else:\n",
    "    print(f\"{n} is not a prime number.\")"
   ]
  },
  {
   "cell_type": "markdown",
   "metadata": {},
   "source": [
    "## Q9. Make a simple calculator?"
   ]
  },
  {
   "cell_type": "code",
   "execution_count": 37,
   "metadata": {},
   "outputs": [
    {
     "name": "stdout",
     "output_type": "stream",
     "text": [
      "Enter the two numbers: 2 5\n",
      "Enter 1 to perform addition, Enter 2 to perform subtraction, Enter 3 to perform multiplication, Enter 4 to perform division.1\n",
      "7\n"
     ]
    }
   ],
   "source": [
    "a,b = input(\"Enter the two numbers: \").split()\n",
    "n = input(\"Enter 1 to perform addition, Enter 2 to perform subtraction, Enter 3 to perform multiplication, Enter 4 to perform division.\")\n",
    "a =int(a)\n",
    "b = int(b)\n",
    "n = int(n)\n",
    "\n",
    "if n==1:\n",
    "    total = a+b\n",
    "    print(total)\n",
    "elif n==2:\n",
    "    total = a-b\n",
    "    print(total)\n",
    "elif n==3:\n",
    "    total = a*b\n",
    "    print(total)\n",
    "elif n==4:\n",
    "    total = a/b\n",
    "    print(total)"
   ]
  }
 ],
 "metadata": {
  "kernelspec": {
   "display_name": "Python 3",
   "language": "python",
   "name": "python3"
  },
  "language_info": {
   "codemirror_mode": {
    "name": "ipython",
    "version": 3
   },
   "file_extension": ".py",
   "mimetype": "text/x-python",
   "name": "python",
   "nbconvert_exporter": "python",
   "pygments_lexer": "ipython3",
   "version": "3.8.5"
  }
 },
 "nbformat": 4,
 "nbformat_minor": 4
}
